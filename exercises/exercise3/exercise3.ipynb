{
 "cells": [
  {
   "cell_type": "code",
   "execution_count": 73,
   "metadata": {},
   "outputs": [],
   "source": [
    "from math import log"
   ]
  },
  {
   "cell_type": "code",
   "execution_count": 87,
   "metadata": {},
   "outputs": [],
   "source": [
    "def parse(path):\n",
    "    data = []\n",
    "    with open(path) as infile:\n",
    "        for line in infile:\n",
    "            if line.isspace():\n",
    "                continue\n",
    "\n",
    "            sample = line.split(', ')\n",
    "            data.append(sample)\n",
    "\n",
    "    return data\n",
    "\n",
    "def attr_order(data):\n",
    "    order = []\n",
    "    \n",
    "    for attr_index in range(len(data[0])):\n",
    "        order.append({})\n",
    "\n",
    "        pos = 0\n",
    "        for sample in data:\n",
    "            value = sample[attr_index]\n",
    "            if value not in order[attr_index]:\n",
    "                order[attr_index][value] = pos\n",
    "                pos += 1\n",
    "\n",
    "    return order"
   ]
  },
  {
   "cell_type": "code",
   "execution_count": 75,
   "metadata": {},
   "outputs": [],
   "source": [
    "def entropy(data, class_index):\n",
    "    class_sizes = {}\n",
    "    for sample in data:\n",
    "        class_label = sample[class_index]\n",
    "        if class_label == '?':\n",
    "            continue\n",
    "\n",
    "        if class_label not in class_sizes:\n",
    "            class_sizes[class_label] = 1\n",
    "        else:\n",
    "            class_sizes[class_label] += 1\n",
    "\n",
    "    num_samples = sum(class_sizes.values())\n",
    "    h = 0\n",
    "    for class_label in class_sizes:\n",
    "        p = class_sizes[class_label] / num_samples\n",
    "        h += -p * log(p)\n",
    "\n",
    "    return h"
   ]
  },
  {
   "cell_type": "code",
   "execution_count": 76,
   "metadata": {},
   "outputs": [],
   "source": [
    "def information_gain(data, attr_index, class_index):\n",
    "    subsets = {}\n",
    "    for sample in data:\n",
    "        value = sample[attr_index]\n",
    "\n",
    "        if value == '?' or sample[class_index] == '?':\n",
    "            continue\n",
    "\n",
    "        if not value in subsets:\n",
    "            subsets[value] = [sample]\n",
    "        else:\n",
    "            subsets[value].append(sample)\n",
    "\n",
    "    num_samples = sum([len(s) for s in subsets.values()])\n",
    "\n",
    "    rem = 0\n",
    "    for value in subsets:\n",
    "        subset = subsets[value]\n",
    "        rem += len(subset) / num_samples * entropy(subset, class_index)\n",
    "    \n",
    "    return entropy(data, class_index) - rem    "
   ]
  },
  {
   "cell_type": "code",
   "execution_count": 77,
   "metadata": {},
   "outputs": [],
   "source": [
    "def majority(data, attr_index):\n",
    "    occurences = {}\n",
    "    for sample in data:\n",
    "        attr = sample[attr_index]\n",
    "        if attr == '?':\n",
    "            continue\n",
    "            \n",
    "        if attr not in occurences:\n",
    "            occurences[attr] = 1\n",
    "        else:\n",
    "            occurences[attr] += 1\n",
    "\n",
    "    return max(occurences, key=occurences.get)"
   ]
  },
  {
   "cell_type": "code",
   "execution_count": 78,
   "metadata": {},
   "outputs": [],
   "source": [
    "def best_attr(data, attr_avail, class_index):\n",
    "    best = 0\n",
    "    max_ig= 0\n",
    "\n",
    "    for attr_index in range(len(data[0])):\n",
    "        if not attr_avail[attr_index]:\n",
    "            continue\n",
    "            \n",
    "        ig = information_gain(data, attr_index, class_index)\n",
    "        if ig > max_ig:\n",
    "            best = attr_index\n",
    "            max_ig = ig\n",
    "\n",
    "    return best"
   ]
  },
  {
   "cell_type": "code",
   "execution_count": 79,
   "metadata": {},
   "outputs": [],
   "source": [
    "def dtree_learn(data, attr_avail, default, class_index):\n",
    "    if not data:\n",
    "        return (None, default)\n",
    "    \n",
    "    classifications = set()\n",
    "    for sample in data:\n",
    "        class_label = sample[class_index]\n",
    "        if class_label == '?':\n",
    "            continue\n",
    "            \n",
    "        classifications.add(class_label)\n",
    "        if len(classifications) == 1:\n",
    "            return (None, list(classifications)[0])\n",
    "        \n",
    "    if True not in attr_avail:\n",
    "        return (None, majority(data, class_index))\n",
    "    \n",
    "    attr_index = best_attr(data, attr_avail, class_index)\n",
    "    subtrees = []\n",
    "    \n",
    "    subsets = {}\n",
    "    for sample in data:\n",
    "        value = sample[attr_index]\n",
    "        if value == '?':\n",
    "            continue\n",
    "\n",
    "        if value not in subsets:\n",
    "            subsets[value] = [sample]\n",
    "        else:\n",
    "            subsets[value].append(sample)\n",
    "            \n",
    "    attr_avail_subtree = attr_avail\n",
    "    attr_avail_subtree[attr_index] = False\n",
    "    for value in subsets:\n",
    "        subset = subsets[value]\n",
    "        subtree = tree_learn(subset, attr_avail_subtree, majority(subset, class_index))\n",
    "        subtrees.append(subtree)\n",
    "        \n",
    "    return (attr_index, subtrees)"
   ]
  },
  {
   "cell_type": "code",
   "execution_count": 80,
   "metadata": {},
   "outputs": [],
   "source": [
    "def dtree_classify(dtree, sample):\n",
    "    global ATTR_ORDER\n",
    "    \n",
    "    node = dtree   \n",
    "    while node[0] is not None:\n",
    "        subtrees = node[1]\n",
    "        node = subtrees[ATTR_ORDER[sample[attr_index]]]\n",
    "        \n",
    "    return node[1]"
   ]
  },
  {
   "cell_type": "code",
   "execution_count": 81,
   "metadata": {},
   "outputs": [],
   "source": [
    "def dtree_test(dtree, data, class_index):\n",
    "    correct = 0\n",
    "    for sample in data:\n",
    "        if dtree_classify(dtree, sample) == class_index:\n",
    "            correct += 1\n",
    "            \n",
    "    print(\"{} out of {} correct\".format(correct, len(data)))"
   ]
  },
  {
   "cell_type": "code",
   "execution_count": 89,
   "metadata": {},
   "outputs": [
    {
     "name": "stdout",
     "output_type": "stream",
     "text": [
      "0 out of 16282 correct\n"
     ]
    }
   ],
   "source": [
    "INDICES = {\n",
    "    'workclass' : 0,\n",
    "    'final_weight' : 1,\n",
    "    'education' : 2,\n",
    "    'education_num' : 3,\n",
    "    'marital_status' : 4,\n",
    "    'occupation' : 5,\n",
    "    'relationship' : 6,\n",
    "    'race' : 7,\n",
    "    'sex' : 8,\n",
    "    'capital_gain' : 9,\n",
    "    'capital_loss' : 10,\n",
    "    'hours_per_week' : 11,\n",
    "    'native_country' : 12,\n",
    "    'income_class' : 13\n",
    "}\n",
    "\n",
    "ATTR_ORDER = attr_order(data)\n",
    "\n",
    "training_data = parse('training_data.txt')\n",
    "test_data = parse('test_data.txt')\n",
    "\n",
    "dtree = dtree_learn(training_data, [True] * len(training_data[0]), None, INDICES['income_class'])\n",
    "dtree_test(dtree, test_data, INDICES['income_class'])"
   ]
  }
 ],
 "metadata": {
  "kernelspec": {
   "display_name": "Python 3",
   "language": "python",
   "name": "python3"
  },
  "language_info": {
   "codemirror_mode": {
    "name": "ipython",
    "version": 3
   },
   "file_extension": ".py",
   "mimetype": "text/x-python",
   "name": "python",
   "nbconvert_exporter": "python",
   "pygments_lexer": "ipython3",
   "version": "3.6.4"
  }
 },
 "nbformat": 4,
 "nbformat_minor": 2
}
